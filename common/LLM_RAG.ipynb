{
 "cells": [
  {
   "cell_type": "code",
   "execution_count": 1,
   "metadata": {},
   "outputs": [
    {
     "data": {
      "text/plain": [
       "' \\n!python -m pip install llama-index\\n!python -m pip install llama-index-llms-anthropic\\n!python -m pip install llama-index-embeddings-huggingface \\n!python -m pip install python-dotenv\\n!python -m ensurepip \\n '"
      ]
     },
     "execution_count": 1,
     "metadata": {},
     "output_type": "execute_result"
    }
   ],
   "source": [
    "\"\"\" \n",
    "!python -m pip install llama-index\n",
    "!python -m pip install llama-index-llms-anthropic\n",
    "!python -m pip install llama-index-embeddings-huggingface \n",
    "!python -m pip install python-dotenv\n",
    "!python -m ensurepip \n",
    " \"\"\""
   ]
  },
  {
   "cell_type": "code",
   "execution_count": 2,
   "metadata": {},
   "outputs": [],
   "source": [
    "import os\n",
    "from dotenv import load_dotenv\n",
    "\n",
    "# Load environment variables from the .env file\n",
    "load_dotenv()\n",
    "os.environ['ANTHROPIC_API_KEY'] = os.getenv(\"PERSONAL_ANTHROPIC_API_KEY\")\n",
    "cleaned_output_file = \"../data/cleaned_data/cleaned_combined_web_content.txt\"  # Cleaned output text file"
   ]
  },
  {
   "cell_type": "code",
   "execution_count": 3,
   "metadata": {},
   "outputs": [
    {
     "name": "stderr",
     "output_type": "stream",
     "text": [
      "/Users/patrick/Documents/Coding/BlogCodingProjects/202410_Claude_API_Call/.venv/lib/python3.11/site-packages/tqdm/auto.py:21: TqdmWarning: IProgress not found. Please update jupyter and ipywidgets. See https://ipywidgets.readthedocs.io/en/stable/user_install.html\n",
      "  from .autonotebook import tqdm as notebook_tqdm\n"
     ]
    }
   ],
   "source": [
    "from llama_index.llms.anthropic import Anthropic\n",
    "from llama_index.embeddings.huggingface import HuggingFaceEmbedding"
   ]
  },
  {
   "cell_type": "code",
   "execution_count": 4,
   "metadata": {},
   "outputs": [],
   "source": [
    "from llama_index.llms.anthropic import Anthropic\n",
    "from llama_index.embeddings.huggingface import HuggingFaceEmbedding"
   ]
  },
  {
   "cell_type": "code",
   "execution_count": 5,
   "metadata": {},
   "outputs": [],
   "source": [
    "llm = Anthropic(temperature=0.0, model='claude-3-haiku-20240307')\n",
    "embed_model = HuggingFaceEmbedding(model_name=\"BAAI/bge-base-en-v1.5\")"
   ]
  },
  {
   "cell_type": "code",
   "execution_count": 6,
   "metadata": {},
   "outputs": [],
   "source": [
    "from llama_index.core import Settings\n",
    "Settings.llm = llm\n",
    "Settings.embed_model = embed_model\n",
    "Settings.chunk_size = 512\n",
    "Settings.chunk_overlap = 50"
   ]
  },
  {
   "cell_type": "code",
   "execution_count": 7,
   "metadata": {},
   "outputs": [],
   "source": [
    "from llama_index.core import (\n",
    "    VectorStoreIndex,\n",
    "    SimpleDirectoryReader,\n",
    ")"
   ]
  },
  {
   "cell_type": "code",
   "execution_count": 8,
   "metadata": {},
   "outputs": [],
   "source": [
    "documents = SimpleDirectoryReader(\"../data/cleaned_data/\").load_data()\n",
    "\n",
    "#with open(cleaned_output_file, 'r', encoding='utf-8') as file:\n",
    " #   documents = file.readlines()  # Read lines into a list"
   ]
  },
  {
   "cell_type": "code",
   "execution_count": 9,
   "metadata": {},
   "outputs": [],
   "source": [
    "index = VectorStoreIndex.from_documents(\n",
    "    documents,\n",
    ")\n",
    "\n"
   ]
  },
  {
   "cell_type": "code",
   "execution_count": 10,
   "metadata": {},
   "outputs": [],
   "source": [
    "query_engine = index.as_query_engine(similarity_top_k=3)"
   ]
  },
  {
   "cell_type": "code",
   "execution_count": 11,
   "metadata": {},
   "outputs": [
    {
     "name": "stdout",
     "output_type": "stream",
     "text": [
      "Here are 3 practical tips for finding and renting affordable accommodation in London for a short-term stay:\n",
      "\n",
      "1. Consider staying outside the city center. Properties in the suburbs or outer boroughs tend to be more affordable than those in central London. Look for areas with good public transportation connections to access the city easily.\n",
      "\n",
      "2. Explore alternative accommodation options like vacation rentals, serviced apartments, or hostels. These can often provide better value than traditional hotel rooms, especially for longer stays.\n",
      "\n",
      "3. Be flexible on your travel dates if possible. Prices tend to be higher on weekends and during peak tourist seasons. Adjusting your trip dates even slightly can lead to significant savings.\n"
     ]
    }
   ],
   "source": [
    "system_prompt = \"You are a knowledgeable travel advisor specializing in London accommodations. Provide concise, practical advice based on recent trends and local insights.\"\n",
    "user_prompt = \"What are the top 3 practical tips for finding and renting affordable accommodation in London for a short-term stay?\"\n",
    "\n",
    "combined_prompt = f\"{system_prompt}\\n\\nHuman: {user_prompt}\\n\\nAssistant:\"\n",
    "\n",
    "response = query_engine.query(combined_prompt)\n",
    "print(response)"
   ]
  }
 ],
 "metadata": {
  "kernelspec": {
   "display_name": "202410ClaudeAPICall_kernel",
   "language": "python",
   "name": "202410claudeapicall_kernel"
  },
  "language_info": {
   "codemirror_mode": {
    "name": "ipython",
    "version": 3
   },
   "file_extension": ".py",
   "mimetype": "text/x-python",
   "name": "python",
   "nbconvert_exporter": "python",
   "pygments_lexer": "ipython3",
   "version": "3.11.4"
  }
 },
 "nbformat": 4,
 "nbformat_minor": 2
}
