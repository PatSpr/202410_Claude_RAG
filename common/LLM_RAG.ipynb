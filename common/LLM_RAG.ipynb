{
 "cells": [
  {
   "cell_type": "code",
   "execution_count": 5,
   "metadata": {},
   "outputs": [
    {
     "data": {
      "text/plain": [
       "' !pip install llama-index\\n!pip install llama-index-llms-anthropic\\n!pip install llama-index-embeddings-huggingface \\n!pip install python-dotenv\\n '"
      ]
     },
     "execution_count": 5,
     "metadata": {},
     "output_type": "execute_result"
    }
   ],
   "source": [
    "\"\"\" !pip install llama-index\n",
    "!pip install llama-index-llms-anthropic\n",
    "!pip install llama-index-embeddings-huggingface \n",
    "!pip install python-dotenv\n",
    " \"\"\""
   ]
  },
  {
   "cell_type": "code",
   "execution_count": 6,
   "metadata": {},
   "outputs": [],
   "source": [
    "import os\n",
    "from dotenv import load_dotenv\n",
    "\n",
    "# Load environment variables from the .env file\n",
    "load_dotenv()\n",
    "os.environ['ANTHROPIC_API_KEY'] = os.getenv(\"PERSONAL_ANTHROPIC_API_KEY\")\n",
    "cleaned_output_file = \"../data/cleaned_data/cleaned_combined_web_content.txt\"  # Cleaned output text file"
   ]
  },
  {
   "cell_type": "code",
   "execution_count": 7,
   "metadata": {},
   "outputs": [],
   "source": [
    "from llama_index.llms.anthropic import Anthropic\n",
    "from llama_index.embeddings.huggingface import HuggingFaceEmbedding"
   ]
  },
  {
   "cell_type": "code",
   "execution_count": 8,
   "metadata": {},
   "outputs": [],
   "source": [
    "from llama_index.llms.anthropic import Anthropic\n",
    "from llama_index.embeddings.huggingface import HuggingFaceEmbedding"
   ]
  },
  {
   "cell_type": "code",
   "execution_count": 9,
   "metadata": {},
   "outputs": [],
   "source": [
    "llm = Anthropic(temperature=0.0, model='claude-3-haiku-20240307')\n",
    "embed_model = HuggingFaceEmbedding(model_name=\"BAAI/bge-base-en-v1.5\")"
   ]
  },
  {
   "cell_type": "code",
   "execution_count": 10,
   "metadata": {},
   "outputs": [],
   "source": [
    "from llama_index.core import Settings\n",
    "Settings.llm = llm\n",
    "Settings.embed_model = embed_model\n",
    "Settings.chunk_size = 512\n",
    "Settings.chunk_overlap = 50"
   ]
  },
  {
   "cell_type": "code",
   "execution_count": 11,
   "metadata": {},
   "outputs": [],
   "source": [
    "from llama_index.core import (\n",
    "    VectorStoreIndex,\n",
    "    SimpleDirectoryReader,\n",
    ")"
   ]
  },
  {
   "cell_type": "code",
   "execution_count": 20,
   "metadata": {},
   "outputs": [
    {
     "ename": "ValueError",
     "evalue": "Directory ../data/cleaned_data/cleaned_combined_web_content.txt does not exist.",
     "output_type": "error",
     "traceback": [
      "\u001b[0;31m---------------------------------------------------------------------------\u001b[0m",
      "\u001b[0;31mValueError\u001b[0m                                Traceback (most recent call last)",
      "Cell \u001b[0;32mIn[20], line 1\u001b[0m\n\u001b[0;32m----> 1\u001b[0m documents \u001b[38;5;241m=\u001b[39m \u001b[43mSimpleDirectoryReader\u001b[49m\u001b[43m(\u001b[49m\u001b[38;5;124;43m\"\u001b[39;49m\u001b[38;5;124;43m../data/cleaned_data/cleaned_combined_web_content.txt\u001b[39;49m\u001b[38;5;124;43m\"\u001b[39;49m\u001b[43m)\u001b[49m\u001b[38;5;241m.\u001b[39mload_data()\n\u001b[1;32m      3\u001b[0m \u001b[38;5;66;03m#with open(cleaned_output_file, 'r', encoding='utf-8') as file:\u001b[39;00m\n\u001b[1;32m      4\u001b[0m  \u001b[38;5;66;03m#   documents = file.readlines()  # Read lines into a list\u001b[39;00m\n",
      "File \u001b[0;32m~/Documents/Coding/BlogCodingProjects/202410_Claude_API_Call/.venv/lib/python3.11/site-packages/llama_index/core/readers/file/base.py:260\u001b[0m, in \u001b[0;36mSimpleDirectoryReader.__init__\u001b[0;34m(self, input_dir, input_files, exclude, exclude_hidden, errors, recursive, encoding, filename_as_id, required_exts, file_extractor, num_files_limit, file_metadata, raise_on_error, fs)\u001b[0m\n\u001b[1;32m    258\u001b[0m \u001b[38;5;28;01melif\u001b[39;00m input_dir:\n\u001b[1;32m    259\u001b[0m     \u001b[38;5;28;01mif\u001b[39;00m \u001b[38;5;129;01mnot\u001b[39;00m \u001b[38;5;28mself\u001b[39m\u001b[38;5;241m.\u001b[39mfs\u001b[38;5;241m.\u001b[39misdir(input_dir):\n\u001b[0;32m--> 260\u001b[0m         \u001b[38;5;28;01mraise\u001b[39;00m \u001b[38;5;167;01mValueError\u001b[39;00m(\u001b[38;5;124mf\u001b[39m\u001b[38;5;124m\"\u001b[39m\u001b[38;5;124mDirectory \u001b[39m\u001b[38;5;132;01m{\u001b[39;00minput_dir\u001b[38;5;132;01m}\u001b[39;00m\u001b[38;5;124m does not exist.\u001b[39m\u001b[38;5;124m\"\u001b[39m)\n\u001b[1;32m    261\u001b[0m     \u001b[38;5;28mself\u001b[39m\u001b[38;5;241m.\u001b[39minput_dir \u001b[38;5;241m=\u001b[39m _Path(input_dir)\n\u001b[1;32m    262\u001b[0m     \u001b[38;5;28mself\u001b[39m\u001b[38;5;241m.\u001b[39mexclude \u001b[38;5;241m=\u001b[39m exclude\n",
      "\u001b[0;31mValueError\u001b[0m: Directory ../data/cleaned_data/cleaned_combined_web_content.txt does not exist."
     ]
    }
   ],
   "source": [
    "documents = SimpleDirectoryReader(\"../data/cleaned_data/\").load_data()\n",
    "\n",
    "#with open(cleaned_output_file, 'r', encoding='utf-8') as file:\n",
    " #   documents = file.readlines()  # Read lines into a list"
   ]
  },
  {
   "cell_type": "code",
   "execution_count": 17,
   "metadata": {},
   "outputs": [],
   "source": [
    "index = VectorStoreIndex.from_documents(\n",
    "    documents,\n",
    ")\n",
    "\n"
   ]
  },
  {
   "cell_type": "code",
   "execution_count": 18,
   "metadata": {},
   "outputs": [],
   "source": [
    "query_engine = index.as_query_engine(similarity_top_k=3)"
   ]
  },
  {
   "cell_type": "code",
   "execution_count": 19,
   "metadata": {},
   "outputs": [
    {
     "name": "stdout",
     "output_type": "stream",
     "text": [
      "Based on the information provided, here are the top 3 tips for renting accommodation in London and where not to stay as a tourist:\n",
      "\n",
      "Tips for renting accommodation in London:\n",
      "\n",
      "1. Consider cheaper areas outside the city center that may have less frequent or only national rail transport, but can provide good rental opportunities. Areas in the southern and eastern parts of London can be more affordable.\n",
      "\n",
      "2. Flat sharing with other students or young professionals can help with costs, but be aware of potential downsides like lack of privacy and tranquility. Student residences can be a good alternative to get privacy without breaking the bank.\n",
      "\n",
      "3. Book your accommodation in advance before arriving in London to avoid having to pay for temporary stays in hotels or Airbnbs while looking for a place. This will help reduce stress and ensure you have a place secured.\n",
      "\n",
      "Where not to stay as a tourist in London:\n",
      "\n",
      "According to the information provided, it is generally recommended to avoid areas with notably higher crime rates, such as Canning Town, Tower Hamlets, and Hackney. More central areas of London also tend to have higher crime rates, so it may be better to opt for areas a little further out, like Maida Vale or Greenwich, to have a safer base to return to.\n"
     ]
    }
   ],
   "source": [
    "response = query_engine.query(\"What are top 3tips to rent accomodation in london? and Where Not to Stay in London as a Tourist?\")\n",
    "print(response)"
   ]
  }
 ],
 "metadata": {
  "kernelspec": {
   "display_name": "202410ClaudeAPICall_kernel",
   "language": "python",
   "name": "202410claudeapicall_kernel"
  },
  "language_info": {
   "codemirror_mode": {
    "name": "ipython",
    "version": 3
   },
   "file_extension": ".py",
   "mimetype": "text/x-python",
   "name": "python",
   "nbconvert_exporter": "python",
   "pygments_lexer": "ipython3",
   "version": "3.11.4"
  }
 },
 "nbformat": 4,
 "nbformat_minor": 2
}
