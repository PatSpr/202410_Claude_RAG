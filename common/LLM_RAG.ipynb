{
 "cells": [
  {
   "cell_type": "code",
   "execution_count": 48,
   "metadata": {},
   "outputs": [
    {
     "data": {
      "text/plain": [
       "' !pip install llama-index\\n!pip install llama-index-llms-anthropic\\n!pip install llama-index-embeddings-huggingface \\n!pip install python-dotenv\\n'"
      ]
     },
     "execution_count": 48,
     "metadata": {},
     "output_type": "execute_result"
    }
   ],
   "source": [
    "\"\"\" !pip install llama-index\n",
    "!pip install llama-index-llms-anthropic\n",
    "!pip install llama-index-embeddings-huggingface \n",
    "!pip install python-dotenv\n",
    "\"\"\""
   ]
  },
  {
   "cell_type": "code",
   "execution_count": 49,
   "metadata": {},
   "outputs": [],
   "source": [
    "import os\n",
    "from dotenv import load_dotenv\n",
    "\n",
    "# Load environment variables from the .env file\n",
    "load_dotenv()\n",
    "os.environ['ANTHROPIC_API_KEY'] = os.getenv(\"PERSONAL_ANTHROPIC_API_KEY\")\n",
    "cleaned_output_file = \"../data/cleaned_data/cleaned_combined_web_content.txt\"  # Cleaned output text file"
   ]
  },
  {
   "cell_type": "code",
   "execution_count": 50,
   "metadata": {},
   "outputs": [],
   "source": [
    "from llama_index.llms.anthropic import Anthropic\n",
    "from llama_index.embeddings.huggingface import HuggingFaceEmbedding"
   ]
  },
  {
   "cell_type": "code",
   "execution_count": 51,
   "metadata": {},
   "outputs": [],
   "source": [
    "from llama_index.llms.anthropic import Anthropic\n",
    "from llama_index.embeddings.huggingface import HuggingFaceEmbedding"
   ]
  },
  {
   "cell_type": "code",
   "execution_count": 52,
   "metadata": {},
   "outputs": [],
   "source": [
    "llm = Anthropic(temperature=0.0, model='claude-3-haiku-20240307')\n",
    "embed_model = HuggingFaceEmbedding(model_name=\"BAAI/bge-base-en-v1.5\")"
   ]
  },
  {
   "cell_type": "code",
   "execution_count": 53,
   "metadata": {},
   "outputs": [],
   "source": [
    "from llama_index.core import Settings\n",
    "Settings.llm = llm\n",
    "Settings.embed_model = embed_model\n",
    "Settings.chunk_size = 512"
   ]
  },
  {
   "cell_type": "code",
   "execution_count": 54,
   "metadata": {},
   "outputs": [],
   "source": [
    "from llama_index.core import (\n",
    "    VectorStoreIndex,\n",
    "    SimpleDirectoryReader,\n",
    ")"
   ]
  },
  {
   "cell_type": "code",
   "execution_count": 59,
   "metadata": {},
   "outputs": [],
   "source": [
    "documents = SimpleDirectoryReader(\"../data/\").load_data()\n",
    "\n",
    "#with open(cleaned_output_file, 'r', encoding='utf-8') as file:\n",
    " #   documents = file.readlines()  # Read lines into a list"
   ]
  },
  {
   "cell_type": "code",
   "execution_count": 60,
   "metadata": {},
   "outputs": [],
   "source": [
    "index = VectorStoreIndex.from_documents(\n",
    "    documents,\n",
    ")\n",
    "\n"
   ]
  },
  {
   "cell_type": "code",
   "execution_count": 12,
   "metadata": {},
   "outputs": [],
   "source": [
    "query_engine = index.as_query_engine(similarity_top_k=3)"
   ]
  },
  {
   "cell_type": "code",
   "execution_count": 14,
   "metadata": {},
   "outputs": [
    {
     "name": "stdout",
     "output_type": "stream",
     "text": [
      "Based on the provided context, here are the top 3 tips for renting accommodation in London:\n",
      "\n",
      "1. Look for cheaper areas in London, especially in the southern and eastern parts of the city, as they may have more affordable options compared to the popular northern and western neighborhoods.\n",
      "\n",
      "2. Consider flat sharing as it can help with the cost, but be mindful of the potential downsides like lack of privacy and potential issues with roommates. Alternatively, look into student residences if you want more privacy without breaking the bank.\n",
      "\n",
      "3. Plan ahead and book your accommodation before arriving in London to avoid the stress and additional costs of staying in Airbnbs or hotels while searching. Make sure to inquire about what's included in the rent, such as bills, bedding, and internet.\n",
      "\n",
      "Regarding where not to stay in London as a tourist, the context suggests avoiding areas with higher crime rates, such as Canning Town, Tower Hamlets, and Hackney. Instead, it recommends opting for more central areas or neighborhoods a little further out, like Maida Vale or Greenwich, which tend to have lower crime rates and provide a safer base for your stay.\n"
     ]
    }
   ],
   "source": [
    "response = query_engine.query(\"What are top 3tips to rent accomodation in london? and Where Not to Stay in London as a Tourist?\")\n",
    "print(response)"
   ]
  }
 ],
 "metadata": {
  "kernelspec": {
   "display_name": "202410ClaudeAPICall_kernel",
   "language": "python",
   "name": "202410claudeapicall_kernel"
  },
  "language_info": {
   "codemirror_mode": {
    "name": "ipython",
    "version": 3
   },
   "file_extension": ".py",
   "mimetype": "text/x-python",
   "name": "python",
   "nbconvert_exporter": "python",
   "pygments_lexer": "ipython3",
   "version": "3.11.4"
  }
 },
 "nbformat": 4,
 "nbformat_minor": 2
}
